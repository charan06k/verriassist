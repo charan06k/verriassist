{
  "nbformat": 4,
  "nbformat_minor": 0,
  "metadata": {
    "colab": {
      "provenance": [],
      "authorship_tag": "ABX9TyOvpspdB6NlJv4vV07buaBl",
      "include_colab_link": true
    },
    "kernelspec": {
      "name": "python3",
      "display_name": "Python 3"
    },
    "language_info": {
      "name": "python"
    }
  },
  "cells": [
    {
      "cell_type": "markdown",
      "metadata": {
        "id": "view-in-github",
        "colab_type": "text"
      },
      "source": [
        "<a href=\"https://colab.research.google.com/github/charan06k/verriassist/blob/main/drug.ipynb\" target=\"_parent\"><img src=\"https://colab.research.google.com/assets/colab-badge.svg\" alt=\"Open In Colab\"/></a>"
      ]
    },
    {
      "cell_type": "code",
      "source": [
        "import torch as tr\n",
        "import pandas as pd\n",
        "import numpy as np\n",
        "import sys\n",
        "file_path='/content/drug_prescription.xls'\n",
        "full_data=pd.read_excel(file_path)"
      ],
      "metadata": {
        "id": "wN-i93mc77_L"
      },
      "execution_count": 1,
      "outputs": []
    },
    {
      "cell_type": "code",
      "source": [
        "# Converting categorical data to numerical values\n",
        "for index, row in full_data.iterrows():\n",
        "    if row['Sex'] == 'M':\n",
        "        full_data.at[index, 'Sex'] = 1\n",
        "    elif row['Sex'] == 'F':\n",
        "        full_data.at[index, 'Sex'] = -1\n",
        "\n",
        "    if row['BP'] == 'LOW':\n",
        "        full_data.at[index, 'BP'] = -1\n",
        "    elif row['BP'] == 'NORMAL':\n",
        "        full_data.at[index, 'BP'] = 0\n",
        "    elif row['BP'] == 'HIGH':\n",
        "        full_data.at[index, 'BP'] = 1\n",
        "\n",
        "    if row['Cholesterol'] == 'LOW':\n",
        "        full_data.at[index, 'Cholesterol'] = -1\n",
        "    elif row['Cholesterol'] == 'NORMAL':\n",
        "        full_data.at[index, 'Cholesterol'] = 0\n",
        "    elif row['Cholesterol'] == 'HIGH':\n",
        "        full_data.at[index, 'Cholesterol'] = 1\n",
        "\n",
        "    if row['Drug'] == 'drugA':\n",
        "        full_data.at[index, 'Drug'] = 0\n",
        "    elif row['Drug'] == 'drugB':\n",
        "        full_data.at[index, 'Drug'] = 1\n",
        "    elif row['Drug'] == 'drugC':\n",
        "        full_data.at[index, 'Drug'] = 2\n",
        "    elif row['Drug'] == 'drugX':\n",
        "        full_data.at[index, 'Drug'] = 3\n",
        "    elif row['Drug'] == 'DrugY':\n",
        "        full_data.at[index, 'Drug'] = 4\n",
        "\n",
        "    full_data.at[index, 'Age'] = int(row['Age'])  # explicitly convert age column to int\n",
        "    full_data.at[index, 'Na_to_K'] = float(row['Na_to_K'])  # explicitly convert Na_to_K column to float\n",
        "\n",
        "\n",
        "# Convert specific columns to desired data types\n",
        "full_data['Sex'] = full_data['Sex'].astype(int)\n",
        "full_data['BP'] = full_data['BP'].astype(int)\n",
        "full_data['Cholesterol'] = full_data['Cholesterol'].astype(int)\n",
        "full_data['Drug'] = full_data['Drug'].astype(int)\n",
        "\n",
        "age = full_data[[\"Age\"]]\n",
        "sex = full_data[[\"Sex\"]]\n",
        "bp = full_data[[\"BP\"]]\n",
        "ch = full_data[[\"Cholesterol\"]]\n",
        "n_k = full_data[[\"Na_to_K\"]]\n",
        "drug = full_data[[\"Drug\"]]\n",
        "drug_pred = None\n",
        "error = None\n",
        "print(age)\n",
        "print(sex)\n",
        "print(bp)\n",
        "print(ch)\n",
        "print(n_k)\n",
        "print(drug)"
      ],
      "metadata": {
        "colab": {
          "base_uri": "https://localhost:8080/"
        },
        "id": "RtO2vlPmDoPo",
        "outputId": "2c3b734f-7483-47b7-9368-ab6afc459ac1"
      },
      "execution_count": 2,
      "outputs": [
        {
          "output_type": "stream",
          "name": "stdout",
          "text": [
            "     Age\n",
            "0     23\n",
            "1     47\n",
            "2     47\n",
            "3     28\n",
            "4     61\n",
            "..   ...\n",
            "195   56\n",
            "196   16\n",
            "197   52\n",
            "198   23\n",
            "199   40\n",
            "\n",
            "[200 rows x 1 columns]\n",
            "     Sex\n",
            "0     -1\n",
            "1      1\n",
            "2      1\n",
            "3     -1\n",
            "4     -1\n",
            "..   ...\n",
            "195   -1\n",
            "196    1\n",
            "197    1\n",
            "198    1\n",
            "199   -1\n",
            "\n",
            "[200 rows x 1 columns]\n",
            "     BP\n",
            "0     1\n",
            "1    -1\n",
            "2    -1\n",
            "3     0\n",
            "4    -1\n",
            "..   ..\n",
            "195  -1\n",
            "196  -1\n",
            "197   0\n",
            "198   0\n",
            "199  -1\n",
            "\n",
            "[200 rows x 1 columns]\n",
            "     Cholesterol\n",
            "0              1\n",
            "1              1\n",
            "2              1\n",
            "3              1\n",
            "4              1\n",
            "..           ...\n",
            "195            1\n",
            "196            1\n",
            "197            1\n",
            "198            0\n",
            "199            0\n",
            "\n",
            "[200 rows x 1 columns]\n",
            "     Na_to_K\n",
            "0     25.355\n",
            "1     13.093\n",
            "2     10.114\n",
            "3      7.798\n",
            "4     18.043\n",
            "..       ...\n",
            "195   11.567\n",
            "196   12.006\n",
            "197    9.894\n",
            "198   14.020\n",
            "199   11.349\n",
            "\n",
            "[200 rows x 1 columns]\n",
            "     Drug\n",
            "0       4\n",
            "1       2\n",
            "2       2\n",
            "3       3\n",
            "4       4\n",
            "..    ...\n",
            "195     2\n",
            "196     2\n",
            "197     3\n",
            "198     3\n",
            "199     3\n",
            "\n",
            "[200 rows x 1 columns]\n"
          ]
        }
      ]
    },
    {
      "cell_type": "code",
      "source": [
        "\n",
        "print(age.shape)\n",
        "print(sex.shape)\n",
        "print(bp.shape)\n",
        "print(ch.shape)\n",
        "print(n_k.shape)"
      ],
      "metadata": {
        "colab": {
          "base_uri": "https://localhost:8080/"
        },
        "id": "OEVl6L3w8qfS",
        "outputId": "6a24442e-a77f-4fb4-d6e1-4a3155111f0b"
      },
      "execution_count": 3,
      "outputs": [
        {
          "output_type": "stream",
          "name": "stdout",
          "text": [
            "(200, 1)\n",
            "(200, 1)\n",
            "(200, 1)\n",
            "(200, 1)\n",
            "(200, 1)\n"
          ]
        }
      ]
    },
    {
      "cell_type": "code",
      "source": [
        "#assigning weights\n",
        "import random\n",
        "w1=random.random()\n",
        "w2=random.random()\n",
        "w3=random.random()\n",
        "w4=random.random()\n",
        "w5=random.random()\n",
        "print(w1)\n",
        "print(w2)\n",
        "print(w3)\n",
        "print(w4)\n",
        "print(w5)"
      ],
      "metadata": {
        "colab": {
          "base_uri": "https://localhost:8080/"
        },
        "id": "-l9ZlsDg9FdC",
        "outputId": "c2f53737-8447-4ca8-dd57-a9852d09f0dc"
      },
      "execution_count": 4,
      "outputs": [
        {
          "output_type": "stream",
          "name": "stdout",
          "text": [
            "0.7311831366366633\n",
            "0.6758942825377288\n",
            "0.8631473579233127\n",
            "0.0873748207561793\n",
            "0.43897525031777795\n"
          ]
        }
      ]
    },
    {
      "source": [
        "def calculate_error(drug_pred, drug):\n",
        "       error = drug - drug_pred\n",
        "       mse = np.mean(error**2)  # Mean Squared Error\n",
        "       return mse"
      ],
      "cell_type": "code",
      "metadata": {
        "id": "lYWlP7s9AynB"
      },
      "execution_count": 5,
      "outputs": []
    },
    {
      "source": [
        "def calculate_gradient(w1, w2, w3, w4, w5, age, sex, bp, ch, n_k, drug):\n",
        "    # Get the underlying NumPy arrays from the DataFrames\n",
        "    age_values = age.values\n",
        "    sex_values = sex.values\n",
        "    bp_values = bp.values\n",
        "    ch_values = ch.values\n",
        "    n_k_values = n_k.values\n",
        "    drug_values = drug.values\n",
        "\n",
        "\n",
        "    # Calculate drug_pred using NumPy array operations\n",
        "    drug_pred = (w1 * age_values) + (w2 * sex_values) + (w3 * bp_values) + (w4 * ch_values) + (w5 * n_k_values)\n",
        "    error = drug_values - drug_pred\n",
        "\n",
        "    # Partial derivatives (gradients) - use NumPy's dot product for efficiency\n",
        "    grad_w1 = -2 * np.dot(error.T, age_values) / len(drug)  # Assuming MSE loss\n",
        "    grad_w2 = -2 * np.dot(error.T, sex_values) / len(drug)\n",
        "    grad_w3 = -2 * np.dot(error.T, bp_values) / len(drug)\n",
        "    grad_w4 = -2 * np.dot(error.T, ch_values) / len(drug)\n",
        "    grad_w5 = -2 * np.dot(error.T, n_k_values) / len(drug)\n",
        "\n",
        "    return grad_w1, grad_w2, grad_w3, grad_w4, grad_w5,drug_pred,error"
      ],
      "cell_type": "code",
      "metadata": {
        "id": "BH4xTcQvA5cX"
      },
      "execution_count": 6,
      "outputs": []
    },
    {
      "source": [
        "learning_rate = 0.01\n",
        "count = 1000\n",
        "i = 0\n",
        "for i in range(count):\n",
        "       grad_w1, grad_w2, grad_w3, grad_w4, grad_w5, drug_pred, error = calculate_gradient(w1, w2, w3, w4, w5, age, sex, bp, ch, n_k, drug)\n",
        "\n",
        "       # Update weights\n",
        "       w1 = w1 - float(learning_rate) * grad_w1\n",
        "       w2 = w2 - float(learning_rate) * grad_w2\n",
        "       w3 = w3 - float(learning_rate) * grad_w3\n",
        "       w4 = w4 - float(learning_rate) * grad_w4\n",
        "       w5 = w5 - float(learning_rate) * grad_w5\n",
        "\n",
        "print(w1,w2,w3,w4,w5)\n",
        "print(grad_w1.dtype)\n"
      ],
      "cell_type": "code",
      "metadata": {
        "colab": {
          "base_uri": "https://localhost:8080/"
        },
        "id": "tTuVBR-tA9Vn",
        "outputId": "1c0561bb-3cdb-4bf6-d79f-643d64a74769"
      },
      "execution_count": 14,
      "outputs": [
        {
          "output_type": "stream",
          "name": "stdout",
          "text": [
            "[[nan]] [[nan]] [[nan]] [[nan]] [[nan]]\n",
            "float64\n"
          ]
        }
      ]
    },
    {
      "cell_type": "code",
      "source": [
        "age_test=int(input(\"enter the age: \"))\n",
        "sex_test=input(\"enter sex as \\\"M\\\" or \\\"F\\\": \")\n",
        "bp_test=input(\"enter BP as \\\"HIGH\\\" or \\\"LOW\\\" or \\\"NORMAL\\\": \")\n",
        "ch_test=input(\"enter cholestrol as \\\"HIGH\\\" or \\\"LOW\\\" or \\\"NORMAL\\\": \")\n",
        "n_k_test=float(input(\"enter the Na to k ratio : \"))\n",
        "\n",
        "#converting data to required form\n",
        "if sex_test=='M':\n",
        "  sex_test=1\n",
        "elif sex_test=='F':\n",
        "  sex_test=-1\n",
        "\n",
        "if bp_test=='HIGH':\n",
        "  bp_test=1\n",
        "elif bp_test=='LOW':\n",
        "  bp_test=-1\n",
        "elif bp_test=='NORMAL':\n",
        "  bp_test=0\n",
        "\n",
        "if ch_test=='HIGH':\n",
        "  ch_test=1\n",
        "elif ch_test=='LOW':\n",
        "  ch_test=-1\n",
        "elif ch_test=='NORMAL':\n",
        "  ch_test=0\n",
        "\n",
        "drug_prec=(w1*age_test)+(w2*sex_test)+(w3*bp_test)+(w4*ch_test)+(w5*n_k_test)\n",
        "\n",
        "if -0.5<=drug_prec<=0.5:\n",
        "  drug_prec='DrugA'\n",
        "elif 0.5<=drug_prec<=1.5:\n",
        "  drug_prec='DrugB'\n",
        "elif 1.5<=drug_prec<=2.5:\n",
        "  drug_prec='DrugC'\n",
        "elif 2.5<=drug_prec<=3.5:\n",
        "  drug_prec='DrugX'\n",
        "elif 3.5<=drug_prec<=4.5:\n",
        "  drug_prec='DrugY'\n",
        "else:\n",
        "  print(f\"wrond data entered\")\n",
        "print(f\"precribed drug :\", drug_prec)"
      ],
      "metadata": {
        "colab": {
          "base_uri": "https://localhost:8080/"
        },
        "id": "EdwO88pv2rx1",
        "outputId": "38f1a837-a0cf-4d24-c6b1-7418c2c2367a"
      },
      "execution_count": null,
      "outputs": [
        {
          "output_type": "stream",
          "name": "stdout",
          "text": [
            "enter the age: 23\n",
            "enter sex as \"M\" or \"F\": M\n",
            "enter BP as \"HIGH\" or \"LOW\" or \"NORMAL\": HIGH\n",
            "enter cholestrol as \"HIGH\" or \"LOW\" or \"NORMAL\": NORMAL\n",
            "enter the Na to k ratio : 10.234\n",
            "wrond data entered\n",
            "precribed drug : [[nan]]\n"
          ]
        }
      ]
    }
  ]
}